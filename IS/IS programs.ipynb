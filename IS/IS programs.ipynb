{
 "cells": [
  {
   "cell_type": "markdown",
   "id": "af347ae0",
   "metadata": {},
   "source": [
    "# CAESAR CIPHER"
   ]
  },
  {
   "cell_type": "code",
   "execution_count": null,
   "id": "ee025f56",
   "metadata": {},
   "outputs": [],
   "source": [
    "def encrypt(secret, key):\n",
    "    encrypted = []\n",
    "\n",
    "    for letter in secret:\n",
    "        if letter.isalpha():\n",
    "            encrypted.append(chr(((ord(letter) - 97 + key) % 26) + 65))\n",
    "        else:\n",
    "            encrypted.append(letter)\n",
    "\n",
    "    return \"\".join(encrypted)\n",
    "\n",
    "def decrypt(secret, key):\n",
    "    decrypted = []\n",
    "\n",
    "    for letter in secret:\n",
    "        if letter.isalpha():\n",
    "            decrypted.append(chr(((ord(letter) - 65 - key) % 26) + 97))\n",
    "        else:\n",
    "            decrypted.append(letter)\n",
    "\n",
    "    return \"\".join(decrypted)\n",
    "\n",
    "secret = str(input(\"Enter the secret: \"))\n",
    "\n",
    "key = int(input(\"Enter the key: \"))\n",
    "\n",
    "encrypted = encrypt(secret, key)\n",
    "decrypted = decrypt(encrypted, key)\n",
    "\n",
    "print(\"Encrypted:\", encrypted)\n",
    "print(\"Decrypted:\", decrypted)"
   ]
  },
  {
   "cell_type": "markdown",
   "id": "4c6e9728",
   "metadata": {},
   "source": [
    "# COLUMNAR CIPHER"
   ]
  },
  {
   "cell_type": "code",
   "execution_count": 12,
   "id": "a005b3be",
   "metadata": {},
   "outputs": [
    {
     "name": "stdout",
     "output_type": "stream",
     "text": [
      "Enter the secret: q\n",
      "Enter the depth: q\n"
     ]
    },
    {
     "ename": "ValueError",
     "evalue": "invalid literal for int() with base 10: 'q'",
     "output_type": "error",
     "traceback": [
      "\u001b[1;31m---------------------------------------------------------------------------\u001b[0m",
      "\u001b[1;31mValueError\u001b[0m                                Traceback (most recent call last)",
      "Cell \u001b[1;32mIn[12], line 36\u001b[0m\n\u001b[0;32m     34\u001b[0m secret \u001b[38;5;241m=\u001b[39m \u001b[38;5;28mstr\u001b[39m(\u001b[38;5;28minput\u001b[39m(\u001b[38;5;124m\"\u001b[39m\u001b[38;5;124mEnter the secret: \u001b[39m\u001b[38;5;124m\"\u001b[39m))\u001b[38;5;241m.\u001b[39mreplace(\u001b[38;5;124m\"\u001b[39m\u001b[38;5;124m \u001b[39m\u001b[38;5;124m\"\u001b[39m, \u001b[38;5;124m\"\u001b[39m\u001b[38;5;124m\"\u001b[39m)\u001b[38;5;241m.\u001b[39mupper()\n\u001b[0;32m     35\u001b[0m \u001b[38;5;66;03m#takes input string and remove any spaces\u001b[39;00m\n\u001b[1;32m---> 36\u001b[0m depth \u001b[38;5;241m=\u001b[39m \u001b[38;5;28;43mint\u001b[39;49m\u001b[43m(\u001b[49m\u001b[38;5;28;43minput\u001b[39;49m\u001b[43m(\u001b[49m\u001b[38;5;124;43m\"\u001b[39;49m\u001b[38;5;124;43mEnter the depth: \u001b[39;49m\u001b[38;5;124;43m\"\u001b[39;49m\u001b[43m)\u001b[49m\u001b[43m)\u001b[49m\n\u001b[0;32m     38\u001b[0m key \u001b[38;5;241m=\u001b[39m \u001b[38;5;28mlist\u001b[39m(\u001b[38;5;28mmap\u001b[39m(\u001b[38;5;28mint\u001b[39m, \u001b[38;5;28minput\u001b[39m(\u001b[38;5;124m\"\u001b[39m\u001b[38;5;124mEnter the key: \u001b[39m\u001b[38;5;124m\"\u001b[39m)\u001b[38;5;241m.\u001b[39mstrip()\u001b[38;5;241m.\u001b[39msplit()))\n\u001b[0;32m     40\u001b[0m \u001b[38;5;28;01mif\u001b[39;00m key \u001b[38;5;241m==\u001b[39m []:\n",
      "\u001b[1;31mValueError\u001b[0m: invalid literal for int() with base 10: 'q'"
     ]
    }
   ],
   "source": [
    "import numpy as np\n",
    "\n",
    "def encrypt(secret, depth, key):\n",
    "    msg = np.array(list(secret)) \n",
    "    #converts secret into array\n",
    "\n",
    "    encrypted = \"\"\n",
    "    \n",
    "    if len(msg) % depth != 0:\n",
    "        msg = np.append(msg, ['X'] * (depth - len(msg) % depth))\n",
    "        #checks if the length of msg is not divisible by depth and append'x' to the end of msg until it is divisible \n",
    "    \n",
    "    msg = msg.reshape((depth, -1))[:, np.argsort(key)].T\n",
    "    #first reshape msg into 2d array with depth rows,then sort the column using indices in key and then transpose the array.\n",
    "    for group in msg:\n",
    "        encrypted += \"\".join(group)\n",
    "    #concatenate characters in each row of msg to encrypted string.\n",
    "    return encrypted\n",
    "\n",
    "def decrypt(secret, depth, key):\n",
    "    msg = np.array(list(secret))\n",
    "\n",
    "    decrypted = \"\"\n",
    "    \n",
    "    msg = msg.reshape((-1, depth)).T\n",
    "    #reshape msg with depth col and transpose the array\n",
    "    msg = msg[:, key]\n",
    "    #sort the col using key\n",
    "    for group in msg:\n",
    "        decrypted += \"\".join(group)\n",
    "    #concatenate msg to decrypted string\n",
    "    return decrypted\n",
    "\n",
    "secret = str(input(\"Enter the secret: \")).replace(\" \", \"\").upper()\n",
    "#takes input string and remove any spaces\n",
    "depth = int(input(\"Enter the depth: \"))\n",
    "\n",
    "key = list(map(int, input(\"Enter the key: \").strip().split()))\n",
    "\n",
    "if key == []:\n",
    "    key = np.arange(len(secret) // depth + 1)\n",
    "\n",
    "encrypted = encrypt(secret, depth, key)\n",
    "\n",
    "decrypted = decrypt(encrypted, depth, key)\n",
    "\n",
    "print(\"Encrypted: \", encrypted)\n",
    "\n",
    "print(\"Decrypted: \", decrypted)"
   ]
  },
  {
   "cell_type": "markdown",
   "id": "69494d18",
   "metadata": {},
   "source": [
    "# MULTIPLE INVERSE"
   ]
  },
  {
   "cell_type": "code",
   "execution_count": 18,
   "id": "b6a98bc3",
   "metadata": {},
   "outputs": [
    {
     "name": "stdout",
     "output_type": "stream",
     "text": [
      "Enter the number: 7\n",
      "Enter the base: 11\n",
      "Multiplicative inverse: 8\n"
     ]
    }
   ],
   "source": [
    "def multi_inv(num, base):\n",
    "    for i in range(1, base):\n",
    "        if (num * i) % base == 1:\n",
    "            return i\n",
    "        #checks if product of num and i is 1, if so then i is multi inv of num in given base\n",
    "    return -1\n",
    "    #it means there exist no mul inv\n",
    "\n",
    "num = int(input(\"Enter the number: \"))\n",
    "base = int(input(\"Enter the base: \"))\n",
    "\n",
    "inv = multi_inv(num, base)\n",
    "\n",
    "if inv == -1:\n",
    "    print(\"Multiplicative inverse for\", num, \"in base\", base, \"does not exist.\")\n",
    "else:\n",
    "    print(\"Multiplicative inverse:\", inv)"
   ]
  },
  {
   "cell_type": "markdown",
   "id": "7f1c9933",
   "metadata": {},
   "source": [
    "# RAILFENCE CIPHER"
   ]
  },
  {
   "cell_type": "code",
   "execution_count": 14,
   "id": "ede1c02b",
   "metadata": {},
   "outputs": [
    {
     "name": "stdout",
     "output_type": "stream",
     "text": [
      "Enter the secret to encrypt: my name is pradeep\n",
      "Enter the depth: 4\n",
      "['M' 'Y' 'N' 'A' 'M' 'E' 'I' 'S' 'P' 'R' 'A' 'D' 'E' 'E' 'P']\n",
      "['M' 'Y' 'N' 'A' 'M' 'E' 'I' 'S' 'P' 'R' 'A' 'D' 'E' 'E' 'P' 'X']\n",
      "[['M' 'M' 'P' 'E']\n",
      " ['Y' 'E' 'R' 'E']\n",
      " ['N' 'I' 'A' 'P']\n",
      " ['A' 'S' 'D' 'X']]\n",
      "Encrypted: MMPEYERENIAPASDX\n",
      "Decrypted: MYNAMEISPRADEEPX\n"
     ]
    }
   ],
   "source": [
    "import numpy as np\n",
    "\n",
    "def encrypt(secret, depth):\n",
    "    msg = np.array(list(secret))\n",
    "    print(msg)\n",
    "    if len(msg) % depth != 0:\n",
    "        msg = np.append(msg, ['X'] * (depth - (len(msg) % depth)))\n",
    "        #check if the length of msg is not divisible by depth  , appends X to make it divisible\n",
    "    print(msg)\n",
    "    msg = msg.reshape((depth, -1), order='F')\n",
    "    #reshapes msg array with depth rows and automatically calculate no of cols\n",
    "    #F specifies column major order\n",
    "    print(msg)\n",
    "    return \"\".join(msg.flatten())\n",
    "    #flattens 2d array into 1d array\n",
    "\n",
    "def decrypt(secret, depth):\n",
    "    msg = np.array(list(secret))\n",
    "    msg = msg.reshape((-1, depth), order='F')\n",
    "    #automatic calculation of rows and depth columns\n",
    "    #F specifies col major\n",
    "    return \"\".join(msg.flatten())\n",
    "\n",
    "secret = str(input(\"Enter the secret to encrypt: \")).replace(\" \", \"\").upper()\n",
    "\n",
    "depth = int(input(\"Enter the depth: \"))\n",
    "\n",
    "encrypted = encrypt(secret, depth)\n",
    "decrypted = decrypt(encrypted, depth)\n",
    "\n",
    "print(\"Encrypted:\", encrypted)\n",
    "print(\"Decrypted:\", decrypted)"
   ]
  },
  {
   "cell_type": "markdown",
   "id": "bbdec98d",
   "metadata": {},
   "source": [
    "# MONOALPHABETIC CIPHER"
   ]
  },
  {
   "cell_type": "code",
   "execution_count": null,
   "id": "472523c5",
   "metadata": {},
   "outputs": [],
   "source": [
    "import numpy as np\n",
    "\n",
    "letters = [chr(x + 65) for x in range(26)]\n",
    "#it creates a list containing uppercase alphabet letters\n",
    "print(\"\".join(letters))\n",
    "#concatenates the list into a single string\n",
    "\n",
    "np.random.shuffle(letters)\n",
    "#shuffle the letters randomly\n",
    "print(\"\".join(letters))\n",
    "\n",
    "def encrypt(secret):\n",
    "    encrypted = []\n",
    "\n",
    "    for letter in secret:\n",
    "        if letter.isalpha():\n",
    "            encrypted.append(letters[ord(letter) - 97])\n",
    "            #if the current character is a letter then it adds the corresponding shuffled letter.\n",
    "        else:\n",
    "            encrypted.append(letter)\n",
    "    return \"\".join(encrypted)\n",
    "\n",
    "def decrypt(secret):\n",
    "    decrypted = []\n",
    "\n",
    "    for letter in secret:\n",
    "        if letter.isalpha():\n",
    "            decrypted.append(chr(letters.index(letter) + 97)\n",
    "            #this line adds corresponding unshuffled letter\n",
    "        else:\n",
    "            decrypted.append(letter)\n",
    "\n",
    "    return \"\".join(decrypted)\n",
    "\n",
    "secret = str(input(\"Enter the secret: \"))\n",
    "\n",
    "encrypted = encrypt(secret)\n",
    "decrypted = decrypt(encrypted)\n",
    "\n",
    "print(\"Encrypted:\", encrypted)\n",
    "print(\"Decrypted:\", decrypted)"
   ]
  }
 ],
 "metadata": {
  "kernelspec": {
   "display_name": "Python 3 (ipykernel)",
   "language": "python",
   "name": "python3"
  },
  "language_info": {
   "codemirror_mode": {
    "name": "ipython",
    "version": 3
   },
   "file_extension": ".py",
   "mimetype": "text/x-python",
   "name": "python",
   "nbconvert_exporter": "python",
   "pygments_lexer": "ipython3",
   "version": "3.11.0"
  }
 },
 "nbformat": 4,
 "nbformat_minor": 5
}
